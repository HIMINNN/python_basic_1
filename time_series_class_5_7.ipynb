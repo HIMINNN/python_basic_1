{
 "cells": [
  {
   "cell_type": "code",
   "execution_count": 1,
   "id": "dc13d4b4-5406-4a8f-8932-9ec9c45c0d03",
   "metadata": {},
   "outputs": [
    {
     "name": "stdout",
     "output_type": "stream",
     "text": [
      "Requirement already satisfied: seaborn in c:\\users\\sangjinkim\\desktop\\python_basic_1\\venv\\lib\\site-packages (0.13.2)\n",
      "Requirement already satisfied: numpy!=1.24.0,>=1.20 in c:\\users\\sangjinkim\\desktop\\python_basic_1\\venv\\lib\\site-packages (from seaborn) (1.26.4)\n",
      "Requirement already satisfied: pandas>=1.2 in c:\\users\\sangjinkim\\desktop\\python_basic_1\\venv\\lib\\site-packages (from seaborn) (2.2.1)\n",
      "Requirement already satisfied: matplotlib!=3.6.1,>=3.4 in c:\\users\\sangjinkim\\desktop\\python_basic_1\\venv\\lib\\site-packages (from seaborn) (3.8.3)\n",
      "Requirement already satisfied: contourpy>=1.0.1 in c:\\users\\sangjinkim\\desktop\\python_basic_1\\venv\\lib\\site-packages (from matplotlib!=3.6.1,>=3.4->seaborn) (1.2.0)\n",
      "Requirement already satisfied: cycler>=0.10 in c:\\users\\sangjinkim\\desktop\\python_basic_1\\venv\\lib\\site-packages (from matplotlib!=3.6.1,>=3.4->seaborn) (0.12.1)\n",
      "Requirement already satisfied: fonttools>=4.22.0 in c:\\users\\sangjinkim\\desktop\\python_basic_1\\venv\\lib\\site-packages (from matplotlib!=3.6.1,>=3.4->seaborn) (4.50.0)\n",
      "Requirement already satisfied: kiwisolver>=1.3.1 in c:\\users\\sangjinkim\\desktop\\python_basic_1\\venv\\lib\\site-packages (from matplotlib!=3.6.1,>=3.4->seaborn) (1.4.5)\n",
      "Requirement already satisfied: packaging>=20.0 in c:\\users\\sangjinkim\\desktop\\python_basic_1\\venv\\lib\\site-packages (from matplotlib!=3.6.1,>=3.4->seaborn) (24.0)\n",
      "Requirement already satisfied: pillow>=8 in c:\\users\\sangjinkim\\desktop\\python_basic_1\\venv\\lib\\site-packages (from matplotlib!=3.6.1,>=3.4->seaborn) (10.2.0)\n",
      "Requirement already satisfied: pyparsing>=2.3.1 in c:\\users\\sangjinkim\\desktop\\python_basic_1\\venv\\lib\\site-packages (from matplotlib!=3.6.1,>=3.4->seaborn) (3.1.2)\n",
      "Requirement already satisfied: python-dateutil>=2.7 in c:\\users\\sangjinkim\\desktop\\python_basic_1\\venv\\lib\\site-packages (from matplotlib!=3.6.1,>=3.4->seaborn) (2.9.0.post0)\n",
      "Requirement already satisfied: pytz>=2020.1 in c:\\users\\sangjinkim\\desktop\\python_basic_1\\venv\\lib\\site-packages (from pandas>=1.2->seaborn) (2024.1)\n",
      "Requirement already satisfied: tzdata>=2022.7 in c:\\users\\sangjinkim\\desktop\\python_basic_1\\venv\\lib\\site-packages (from pandas>=1.2->seaborn) (2024.1)\n",
      "Requirement already satisfied: six>=1.5 in c:\\users\\sangjinkim\\desktop\\python_basic_1\\venv\\lib\\site-packages (from python-dateutil>=2.7->matplotlib!=3.6.1,>=3.4->seaborn) (1.16.0)\n",
      "Note: you may need to restart the kernel to use updated packages.\n"
     ]
    }
   ],
   "source": [
    "pip install seaborn\n"
   ]
  },
  {
   "cell_type": "code",
   "execution_count": 2,
   "id": "df20650f-f5ed-439e-8108-28e987094477",
   "metadata": {},
   "outputs": [],
   "source": [
    "import numpy as np\n",
    "import pandas as pd\n",
    "import matplotlib.pyplot as plt\n",
    "import seaborn as sns\n",
    "plt.rcParams[\"font.family\"] = 'Malgun Gothic'\n",
    "\n"
   ]
  },
  {
   "cell_type": "code",
   "execution_count": 3,
   "id": "iyYL7GvabQYa",
   "metadata": {
    "colab": {
     "base_uri": "https://localhost:8080/"
    },
    "executionInfo": {
     "elapsed": 320,
     "status": "ok",
     "timestamp": 1714979706689,
     "user": {
      "displayName": "김유희",
      "userId": "00390714496880607784"
     },
     "user_tz": -540
    },
    "id": "iyYL7GvabQYa",
    "outputId": "b5f5ee55-bebe-4a5c-a8ba-f5277e4256e0"
   },
   "outputs": [
    {
     "data": {
      "text/plain": [
       "Index([7, 7, 7, 7], dtype='int32')"
      ]
     },
     "execution_count": 3,
     "metadata": {},
     "output_type": "execute_result"
    }
   ],
   "source": [
    "# 다양한 형식의 연, 월, 일 표시 데이터\n",
    "import pandas as pd\n",
    "d_list = [\"05/07/2024 11:12:13\", \"05-07-2024 11:22:23\",\"2024-5-07 11:33:23\", \"2024/05/07\"]\n",
    "pd.DatetimeIndex(d_list)\n",
    "pd.DatetimeIndex(d_list).year # 연도 값을 출력\n",
    "pd.DatetimeIndex(d_list).month # 월 값을 출력\n",
    "pd.DatetimeIndex(d_list).day #일 값을출력"
   ]
  },
  {
   "cell_type": "markdown",
   "id": "bvzfX45mdt1r",
   "metadata": {
    "id": "bvzfX45mdt1r"
   },
   "source": [
    "### [실습]\n",
    "* 기상 데이터 분석\n",
    "* 2010년부터 10년간 울룽도 지역의 기온과 풍속을 측정한 데이터"
   ]
  },
  {
   "cell_type": "code",
   "execution_count": 34,
   "id": "Xy2xNFQOft0P",
   "metadata": {
    "colab": {
     "base_uri": "https://localhost:8080/",
     "height": 457
    },
    "executionInfo": {
     "elapsed": 321,
     "status": "ok",
     "timestamp": 1714989051366,
     "user": {
      "displayName": "김유희",
      "userId": "00390714496880607784"
     },
     "user_tz": -540
    },
    "id": "Xy2xNFQOft0P",
    "outputId": "22abb01e-8270-48c0-8664-208f3cf96b34"
   },
   "outputs": [
    {
     "name": "stderr",
     "output_type": "stream",
     "text": [
      "  % Total    % Received % Xferd  Average Speed   Time    Time     Time  Current\n",
      "                                 Dload  Upload   Total   Spent    Left  Speed\n",
      "\n",
      "  0     0    0     0    0     0      0      0 --:--:-- --:--:-- --:--:--     0\n",
      "100 88955  100 88955    0     0   284k      0 --:--:-- --:--:-- --:--:--  289k\n",
      "  % Total    % Received % Xferd  Average Speed   Time    Time     Time  Current\n",
      "                                 Dload  Upload   Total   Spent    Left  Speed\n",
      "\n",
      "  0     0    0     0    0     0      0      0 --:--:-- --:--:-- --:--:--     0curl: (6) Could not resolve host: weather.csv\n"
     ]
    },
    {
     "data": {
      "text/html": [
       "<div>\n",
       "<style scoped>\n",
       "    .dataframe tbody tr th:only-of-type {\n",
       "        vertical-align: middle;\n",
       "    }\n",
       "\n",
       "    .dataframe tbody tr th {\n",
       "        vertical-align: top;\n",
       "    }\n",
       "\n",
       "    .dataframe thead th {\n",
       "        text-align: right;\n",
       "    }\n",
       "</style>\n",
       "<table border=\"1\" class=\"dataframe\">\n",
       "  <thead>\n",
       "    <tr style=\"text-align: right;\">\n",
       "      <th></th>\n",
       "      <th>평균 기온</th>\n",
       "      <th>최대 풍속</th>\n",
       "      <th>평균 풍속</th>\n",
       "    </tr>\n",
       "    <tr>\n",
       "      <th>일시</th>\n",
       "      <th></th>\n",
       "      <th></th>\n",
       "      <th></th>\n",
       "    </tr>\n",
       "  </thead>\n",
       "  <tbody>\n",
       "    <tr>\n",
       "      <th>2010-08-01</th>\n",
       "      <td>28.7</td>\n",
       "      <td>8.3</td>\n",
       "      <td>3.4</td>\n",
       "    </tr>\n",
       "    <tr>\n",
       "      <th>2010-08-02</th>\n",
       "      <td>25.2</td>\n",
       "      <td>8.7</td>\n",
       "      <td>3.8</td>\n",
       "    </tr>\n",
       "    <tr>\n",
       "      <th>2010-08-03</th>\n",
       "      <td>22.1</td>\n",
       "      <td>6.3</td>\n",
       "      <td>2.9</td>\n",
       "    </tr>\n",
       "    <tr>\n",
       "      <th>2010-08-04</th>\n",
       "      <td>25.3</td>\n",
       "      <td>6.6</td>\n",
       "      <td>4.2</td>\n",
       "    </tr>\n",
       "    <tr>\n",
       "      <th>2010-08-05</th>\n",
       "      <td>27.2</td>\n",
       "      <td>9.1</td>\n",
       "      <td>5.6</td>\n",
       "    </tr>\n",
       "  </tbody>\n",
       "</table>\n",
       "</div>"
      ],
      "text/plain": [
       "            평균 기온  최대 풍속  평균 풍속\n",
       "일시                             \n",
       "2010-08-01   28.7    8.3    3.4\n",
       "2010-08-02   25.2    8.7    3.8\n",
       "2010-08-03   22.1    6.3    2.9\n",
       "2010-08-04   25.3    6.6    4.2\n",
       "2010-08-05   27.2    9.1    5.6"
      ]
     },
     "execution_count": 34,
     "metadata": {},
     "output_type": "execute_result"
    }
   ],
   "source": [
    "# 데이터 셋 가져오기\n",
    "#!wget\n",
    "# 윈도우 : curl\n",
    "!curl https://raw.githubusercontent.com/dongupak/BigDataAnalysis/main/weather.csv -O  weather.csv\n",
    "weather = pd.read_csv(\"weather.csv\", index_col = 0)\n",
    "weather.head()\n"
   ]
  },
  {
   "cell_type": "code",
   "execution_count": 35,
   "id": "mBBiTCsOjKzp",
   "metadata": {
    "colab": {
     "base_uri": "https://localhost:8080/"
    },
    "executionInfo": {
     "elapsed": 318,
     "status": "ok",
     "timestamp": 1714978258065,
     "user": {
      "displayName": "김유희",
      "userId": "00390714496880607784"
     },
     "user_tz": -540
    },
    "id": "mBBiTCsOjKzp",
    "outputId": "10749697-bebb-4984-c46e-e8482dbf003e"
   },
   "outputs": [
    {
     "data": {
      "text/plain": [
       "평균 기온    12.942102\n",
       "최대 풍속     7.911099\n",
       "평균 풍속     3.936441\n",
       "dtype: float64"
      ]
     },
     "execution_count": 35,
     "metadata": {},
     "output_type": "execute_result"
    }
   ],
   "source": [
    "weather.mean()"
   ]
  },
  {
   "cell_type": "code",
   "execution_count": 36,
   "id": "dDKpTMWolZp-",
   "metadata": {
    "colab": {
     "base_uri": "https://localhost:8080/"
    },
    "executionInfo": {
     "elapsed": 325,
     "status": "ok",
     "timestamp": 1714978266832,
     "user": {
      "displayName": "김유희",
      "userId": "00390714496880607784"
     },
     "user_tz": -540
    },
    "id": "dDKpTMWolZp-",
    "outputId": "59a0e13e-6f53-4add-a8c9-e23ea36982be"
   },
   "outputs": [
    {
     "data": {
      "text/plain": [
       "26.0"
      ]
     },
     "execution_count": 36,
     "metadata": {},
     "output_type": "execute_result"
    }
   ],
   "source": [
    "# 1. 전체 데이터에 대하여 최대 풍속의 최대값을 출력하시오.\n",
    "weather['최대 풍속'].max()"
   ]
  },
  {
   "cell_type": "code",
   "execution_count": 41,
   "id": "tkJBcc__mDQ3",
   "metadata": {
    "colab": {
     "base_uri": "https://localhost:8080/"
    },
    "executionInfo": {
     "elapsed": 439,
     "status": "ok",
     "timestamp": 1714989062449,
     "user": {
      "displayName": "김유희",
      "userId": "00390714496880607784"
     },
     "user_tz": -540
    },
    "id": "tkJBcc__mDQ3",
    "outputId": "822431bd-a693-40c2-b2c4-79a216205252"
   },
   "outputs": [
    {
     "name": "stdout",
     "output_type": "stream",
     "text": [
      "18265\n",
      "일시       3653\n",
      "평균 기온    3653\n",
      "최대 풍속    3653\n",
      "평균 풍속    3653\n",
      "year     3653\n",
      "dtype: int64\n",
      "Empty DataFrame\n",
      "Columns: [일시, 평균 기온, 최대 풍속, 평균 풍속, year]\n",
      "Index: []\n"
     ]
    },
    {
     "data": {
      "text/html": [
       "<div>\n",
       "<style scoped>\n",
       "    .dataframe tbody tr th:only-of-type {\n",
       "        vertical-align: middle;\n",
       "    }\n",
       "\n",
       "    .dataframe tbody tr th {\n",
       "        vertical-align: top;\n",
       "    }\n",
       "\n",
       "    .dataframe thead th {\n",
       "        text-align: right;\n",
       "    }\n",
       "</style>\n",
       "<table border=\"1\" class=\"dataframe\">\n",
       "  <thead>\n",
       "    <tr style=\"text-align: right;\">\n",
       "      <th></th>\n",
       "      <th>일시</th>\n",
       "      <th>평균 기온</th>\n",
       "      <th>최대 풍속</th>\n",
       "      <th>평균 풍속</th>\n",
       "      <th>year</th>\n",
       "    </tr>\n",
       "  </thead>\n",
       "  <tbody>\n",
       "    <tr>\n",
       "      <th>0</th>\n",
       "      <td>2010-08-01</td>\n",
       "      <td>28.7</td>\n",
       "      <td>8.3</td>\n",
       "      <td>3.4</td>\n",
       "      <td>2010</td>\n",
       "    </tr>\n",
       "    <tr>\n",
       "      <th>1</th>\n",
       "      <td>2010-08-02</td>\n",
       "      <td>25.2</td>\n",
       "      <td>8.7</td>\n",
       "      <td>3.8</td>\n",
       "      <td>2010</td>\n",
       "    </tr>\n",
       "    <tr>\n",
       "      <th>2</th>\n",
       "      <td>2010-08-03</td>\n",
       "      <td>22.1</td>\n",
       "      <td>6.3</td>\n",
       "      <td>2.9</td>\n",
       "      <td>2010</td>\n",
       "    </tr>\n",
       "    <tr>\n",
       "      <th>3</th>\n",
       "      <td>2010-08-04</td>\n",
       "      <td>25.3</td>\n",
       "      <td>6.6</td>\n",
       "      <td>4.2</td>\n",
       "      <td>2010</td>\n",
       "    </tr>\n",
       "    <tr>\n",
       "      <th>4</th>\n",
       "      <td>2010-08-05</td>\n",
       "      <td>27.2</td>\n",
       "      <td>9.1</td>\n",
       "      <td>5.6</td>\n",
       "      <td>2010</td>\n",
       "    </tr>\n",
       "    <tr>\n",
       "      <th>...</th>\n",
       "      <td>...</td>\n",
       "      <td>...</td>\n",
       "      <td>...</td>\n",
       "      <td>...</td>\n",
       "      <td>...</td>\n",
       "    </tr>\n",
       "    <tr>\n",
       "      <th>3648</th>\n",
       "      <td>2020-07-27</td>\n",
       "      <td>22.1</td>\n",
       "      <td>4.2</td>\n",
       "      <td>1.7</td>\n",
       "      <td>2020</td>\n",
       "    </tr>\n",
       "    <tr>\n",
       "      <th>3649</th>\n",
       "      <td>2020-07-28</td>\n",
       "      <td>21.9</td>\n",
       "      <td>4.5</td>\n",
       "      <td>1.6</td>\n",
       "      <td>2020</td>\n",
       "    </tr>\n",
       "    <tr>\n",
       "      <th>3650</th>\n",
       "      <td>2020-07-29</td>\n",
       "      <td>21.6</td>\n",
       "      <td>3.2</td>\n",
       "      <td>1.0</td>\n",
       "      <td>2020</td>\n",
       "    </tr>\n",
       "    <tr>\n",
       "      <th>3651</th>\n",
       "      <td>2020-07-30</td>\n",
       "      <td>22.9</td>\n",
       "      <td>9.7</td>\n",
       "      <td>2.4</td>\n",
       "      <td>2020</td>\n",
       "    </tr>\n",
       "    <tr>\n",
       "      <th>3652</th>\n",
       "      <td>2020-07-31</td>\n",
       "      <td>25.7</td>\n",
       "      <td>4.8</td>\n",
       "      <td>2.5</td>\n",
       "      <td>2020</td>\n",
       "    </tr>\n",
       "  </tbody>\n",
       "</table>\n",
       "<p>3653 rows × 5 columns</p>\n",
       "</div>"
      ],
      "text/plain": [
       "              일시  평균 기온  최대 풍속  평균 풍속  year\n",
       "0     2010-08-01   28.7    8.3    3.4  2010\n",
       "1     2010-08-02   25.2    8.7    3.8  2010\n",
       "2     2010-08-03   22.1    6.3    2.9  2010\n",
       "3     2010-08-04   25.3    6.6    4.2  2010\n",
       "4     2010-08-05   27.2    9.1    5.6  2010\n",
       "...          ...    ...    ...    ...   ...\n",
       "3648  2020-07-27   22.1    4.2    1.7  2020\n",
       "3649  2020-07-28   21.9    4.5    1.6  2020\n",
       "3650  2020-07-29   21.6    3.2    1.0  2020\n",
       "3651  2020-07-30   22.9    9.7    2.4  2020\n",
       "3652  2020-07-31   25.7    4.8    2.5  2020\n",
       "\n",
       "[3653 rows x 5 columns]"
      ]
     },
     "execution_count": 41,
     "metadata": {},
     "output_type": "execute_result"
    }
   ],
   "source": [
    "# 2. 데이터 정제와 결측 값 처리\n",
    "# 1. 전체 테이블의 크기\n",
    "print(weather.size)\n",
    "# 2. 개별적인 열의 개수 확인 \n",
    "print(weather.count())\n",
    "# 3. 결측치 탐지 및 처리\n",
    "missing_data = weather[weather['평균 풍속'].isna()]\n",
    "print(missing_data )\n",
    "#1)\n",
    "# weather.dropna(axis=0, how='any', inplace=True)\n",
    "\n",
    "#2) 결측 값을 평균 풍속으로 채움, inplace를 True로 설정해 원본 데이터를 수정\n",
    "weather.fillna(weather['평균 풍속'].mean(), inplace=True)\n",
    "weather"
   ]
  },
  {
   "cell_type": "code",
   "execution_count": 38,
   "id": "S5Qf5NwbrROu",
   "metadata": {
    "colab": {
     "base_uri": "https://localhost:8080/",
     "height": 237
    },
    "executionInfo": {
     "elapsed": 389,
     "status": "ok",
     "timestamp": 1714979976951,
     "user": {
      "displayName": "김유희",
      "userId": "00390714496880607784"
     },
     "user_tz": -540
    },
    "id": "S5Qf5NwbrROu",
    "outputId": "87f106da-054d-4311-c01a-58dc862858aa"
   },
   "outputs": [
    {
     "data": {
      "text/html": [
       "<div>\n",
       "<style scoped>\n",
       "    .dataframe tbody tr th:only-of-type {\n",
       "        vertical-align: middle;\n",
       "    }\n",
       "\n",
       "    .dataframe tbody tr th {\n",
       "        vertical-align: top;\n",
       "    }\n",
       "\n",
       "    .dataframe thead th {\n",
       "        text-align: right;\n",
       "    }\n",
       "</style>\n",
       "<table border=\"1\" class=\"dataframe\">\n",
       "  <thead>\n",
       "    <tr style=\"text-align: right;\">\n",
       "      <th></th>\n",
       "      <th>평균 기온</th>\n",
       "      <th>최대 풍속</th>\n",
       "      <th>평균 풍속</th>\n",
       "    </tr>\n",
       "    <tr>\n",
       "      <th>일시</th>\n",
       "      <th></th>\n",
       "      <th></th>\n",
       "      <th></th>\n",
       "    </tr>\n",
       "  </thead>\n",
       "  <tbody>\n",
       "    <tr>\n",
       "      <th>2010-08-01</th>\n",
       "      <td>28.7</td>\n",
       "      <td>8.3</td>\n",
       "      <td>3.4</td>\n",
       "    </tr>\n",
       "    <tr>\n",
       "      <th>2010-08-02</th>\n",
       "      <td>25.2</td>\n",
       "      <td>8.7</td>\n",
       "      <td>3.8</td>\n",
       "    </tr>\n",
       "    <tr>\n",
       "      <th>2010-08-03</th>\n",
       "      <td>22.1</td>\n",
       "      <td>6.3</td>\n",
       "      <td>2.9</td>\n",
       "    </tr>\n",
       "    <tr>\n",
       "      <th>2010-08-04</th>\n",
       "      <td>25.3</td>\n",
       "      <td>6.6</td>\n",
       "      <td>4.2</td>\n",
       "    </tr>\n",
       "    <tr>\n",
       "      <th>2010-08-05</th>\n",
       "      <td>27.2</td>\n",
       "      <td>9.1</td>\n",
       "      <td>5.6</td>\n",
       "    </tr>\n",
       "  </tbody>\n",
       "</table>\n",
       "</div>"
      ],
      "text/plain": [
       "            평균 기온  최대 풍속  평균 풍속\n",
       "일시                             \n",
       "2010-08-01   28.7    8.3    3.4\n",
       "2010-08-02   25.2    8.7    3.8\n",
       "2010-08-03   22.1    6.3    2.9\n",
       "2010-08-04   25.3    6.6    4.2\n",
       "2010-08-05   27.2    9.1    5.6"
      ]
     },
     "execution_count": 38,
     "metadata": {},
     "output_type": "execute_result"
    }
   ],
   "source": [
    "# 3. 평균 기온 열에서 어느 연도에  평균 기온이 가장 높았는지 연도별 평균 기온을 막대그래프로 그리기\n",
    "weather.head()"
   ]
  },
  {
   "cell_type": "code",
   "execution_count": 39,
   "id": "8J8c1dv8rRaQ",
   "metadata": {
    "executionInfo": {
     "elapsed": 284,
     "status": "ok",
     "timestamp": 1714989069507,
     "user": {
      "displayName": "김유희",
      "userId": "00390714496880607784"
     },
     "user_tz": -540
    },
    "id": "8J8c1dv8rRaQ"
   },
   "outputs": [],
   "source": [
    "# 3.1 \n",
    "weather.reset_index(inplace=True)"
   ]
  },
  {
   "cell_type": "code",
   "execution_count": 40,
   "id": "yFJhHVMw3orM",
   "metadata": {
    "colab": {
     "base_uri": "https://localhost:8080/",
     "height": 472
    },
    "executionInfo": {
     "elapsed": 911,
     "status": "ok",
     "timestamp": 1714989077801,
     "user": {
      "displayName": "김유희",
      "userId": "00390714496880607784"
     },
     "user_tz": -540
    },
    "id": "yFJhHVMw3orM",
    "outputId": "f210096a-6071-4758-a7e5-eca19362bf30"
   },
   "outputs": [
    {
     "ename": "NameError",
     "evalue": "name 'yearly_wind' is not defined",
     "output_type": "error",
     "traceback": [
      "\u001b[1;31m---------------------------------------------------------------------------\u001b[0m",
      "\u001b[1;31mNameError\u001b[0m                                 Traceback (most recent call last)",
      "Cell \u001b[1;32mIn[40], line 14\u001b[0m\n\u001b[0;32m     11\u001b[0m   yearly_temp[i] \u001b[38;5;241m=\u001b[39m yearly[i][\u001b[38;5;124m'\u001b[39m\u001b[38;5;124m평균 기온\u001b[39m\u001b[38;5;124m'\u001b[39m]\u001b[38;5;241m.\u001b[39mmean()\n\u001b[0;32m     13\u001b[0m years \u001b[38;5;241m=\u001b[39m np\u001b[38;5;241m.\u001b[39marange(\u001b[38;5;241m2010\u001b[39m,\u001b[38;5;241m2021\u001b[39m)\n\u001b[1;32m---> 14\u001b[0m plt\u001b[38;5;241m.\u001b[39mbar(years, \u001b[43myearly_wind\u001b[49m, color\u001b[38;5;241m=\u001b[39m\u001b[38;5;124m\"\u001b[39m\u001b[38;5;124mgreen\u001b[39m\u001b[38;5;124m\"\u001b[39m)\n\u001b[0;32m     15\u001b[0m plt\u001b[38;5;241m.\u001b[39mxlabel(\u001b[38;5;124m'\u001b[39m\u001b[38;5;124m연도\u001b[39m\u001b[38;5;124m'\u001b[39m)\n\u001b[0;32m     16\u001b[0m plt\u001b[38;5;241m.\u001b[39mylabel(\u001b[38;5;124m'\u001b[39m\u001b[38;5;124m평균 기온\u001b[39m\u001b[38;5;124m'\u001b[39m)\n",
      "\u001b[1;31mNameError\u001b[0m: name 'yearly_wind' is not defined"
     ]
    }
   ],
   "source": [
    "# 3.2 weather['일시']에서 연도 값을 추출하여 저장해서 데이터프레임에 추가하기\n",
    "# year 속성을 사용하여 연별로 구분하여 평균 기온 값을 담기\n",
    "\n",
    "weather['year'] = pd.DatetimeIndex(weather['일시']).year\n",
    "\n",
    "yearly = [None for x in range(11)] # 연별로 구분된 10개의 None 값\n",
    "yearly_temp =[0 for x in range(11)] # 연별 평균 기온을 담을 리스트\n",
    "\n",
    "for i in range(11):\n",
    "  yearly[i] = weather[weather['year'] == 2010+i]\n",
    "  yearly_temp[i] = yearly[i]['평균 기온'].mean()\n",
    "\n",
    "years = np.arange(2010,2021)\n",
    "plt.bar(years, yearly_wind, color=\"green\")\n",
    "plt.xlabel('연도')\n",
    "plt.ylabel('평균 기온')\n",
    "plt.title(\"연도별 평균 기온\")\n",
    "plt.show()\n"
   ]
  },
  {
   "cell_type": "code",
   "execution_count": null,
   "id": "zQpsoGYpxs00",
   "metadata": {
    "colab": {
     "base_uri": "https://localhost:8080/",
     "height": 472
    },
    "executionInfo": {
     "elapsed": 343,
     "status": "ok",
     "timestamp": 1714989085508,
     "user": {
      "displayName": "김유희",
      "userId": "00390714496880607784"
     },
     "user_tz": -540
    },
    "id": "zQpsoGYpxs00",
    "outputId": "27e5f1b2-c608-42f6-d427-71864c55dd61"
   },
   "outputs": [],
   "source": [
    "# 4. 어느 월에  평균 기온이 가장 높았는지 월별 평균 기온을 막대그래프로 그리기\n",
    "# month 속성을 사용하여 달별로 구분하여 평균 기온 값을 담기\n",
    "weather['month'] = pd.DatetimeIndex(weather['일시']).month\n",
    "\n",
    "monthly = [None for x in range(12)] # 별로 구분된 12개의 None 값\n",
    "monthly_temp =[0 for x in range(12)] # 월별 평균 풍속을 담을 리스트\n",
    "\n",
    "for i in range(12):\n",
    "  monthly[i] = weather[weather['month'] == i+1]\n",
    "  monthly_temp[i] = monthly[i]['평균 기온'].mean()\n",
    "\n",
    "months = np.arange(1,13)\n",
    "plt.bar(months, monthly_temp, color=\"green\")\n",
    "plt.xlabel('월')\n",
    "plt.ylabel('평균 기온')\n",
    "plt.title(\"월별 평균 기온\")\n",
    "plt.show()\n"
   ]
  },
  {
   "cell_type": "code",
   "execution_count": null,
   "id": "c8Hfzvtpxs8e",
   "metadata": {
    "id": "c8Hfzvtpxs8e"
   },
   "outputs": [],
   "source": []
  },
  {
   "cell_type": "code",
   "execution_count": null,
   "id": "XjO01pekxs_2",
   "metadata": {
    "executionInfo": {
     "elapsed": 341,
     "status": "ok",
     "timestamp": 1714988565485,
     "user": {
      "displayName": "김유희",
      "userId": "00390714496880607784"
     },
     "user_tz": -540
    },
    "id": "XjO01pekxs_2"
   },
   "outputs": [],
   "source": [
    "# 5. 데이터 분석을 할 때는 특정한 값에 기반하여 데이터를 그룹으로 묶는 일이 많다.\n",
    "weather.head()"
   ]
  },
  {
   "cell_type": "code",
   "execution_count": null,
   "id": "vSVlqHIDxtD0",
   "metadata": {
    "colab": {
     "base_uri": "https://localhost:8080/",
     "height": 457
    },
    "executionInfo": {
     "elapsed": 387,
     "status": "ok",
     "timestamp": 1714989640110,
     "user": {
      "displayName": "김유희",
      "userId": "00390714496880607784"
     },
     "user_tz": -540
    },
    "id": "vSVlqHIDxtD0",
    "outputId": "26e00bdb-3ae9-41d3-9963-da2e68e6a70d"
   },
   "outputs": [],
   "source": [
    "# 기상 정보를 월별로 분석하기\n",
    "## 데이터가 속한 달을 판단해 새로운 열로 만들고, 이 열을 기준으로 데이터를 묶어 평균값 구하기\n",
    "# weather['month'] = pd.DatetimeIndex(weather['일시']).month\n",
    "\n",
    "monthly_means = weather.groupby('month')[['평균 기온','최대 풍속', '평균 풍속']].mean()\n",
    "monthly_means"
   ]
  },
  {
   "cell_type": "code",
   "execution_count": null,
   "id": "fc5f7d96-8fc3-4100-9754-05977db8c5f2",
   "metadata": {},
   "outputs": [],
   "source": [
    "plt.bar(np.arange(1,13), monthly_means['평균 기온'], color=\"green\")\n",
    "plt.xlabel('월')\n",
    "plt.ylabel('평균 기온')\n",
    "plt.title(\"월별 평균 기온\")\n",
    "plt.show()"
   ]
  },
  {
   "cell_type": "code",
   "execution_count": null,
   "id": "vusLC4g0WgiL",
   "metadata": {
    "colab": {
     "base_uri": "https://localhost:8080/",
     "height": 425
    },
    "executionInfo": {
     "elapsed": 309,
     "status": "ok",
     "timestamp": 1714989887085,
     "user": {
      "displayName": "김유희",
      "userId": "00390714496880607784"
     },
     "user_tz": -540
    },
    "id": "vusLC4g0WgiL",
    "outputId": "717a7bc3-4b6c-4192-c3ac-8c55d39455da"
   },
   "outputs": [],
   "source": [
    "# 6. 기상 정보를 연도별로 분석하기\n",
    "# weather['year'] = pd.DatetimeIndex(weather['일시']).year\n",
    "yearly_means = weather.groupby('year')[['평균 기온','최대 풍속', '평균 풍속']].mean()\n",
    "yearly_means"
   ]
  },
  {
   "cell_type": "code",
   "execution_count": null,
   "id": "3363b071-416a-4c80-be13-0e4619c25432",
   "metadata": {},
   "outputs": [],
   "source": [
    "plt.bar(np.arange(2010,2021), yearly_means['평균 기온'], color=\"green\")\n",
    "plt.xlabel('연도')\n",
    "plt.ylabel('평균 기온')\n",
    "plt.title(\"연도별 평균 기온\")\n",
    "plt.show()"
   ]
  },
  {
   "cell_type": "code",
   "execution_count": null,
   "id": "cxLAAe-VSM1d",
   "metadata": {
    "colab": {
     "base_uri": "https://localhost:8080/",
     "height": 206
    },
    "executionInfo": {
     "elapsed": 296,
     "status": "ok",
     "timestamp": 1714990112174,
     "user": {
      "displayName": "김유희",
      "userId": "00390714496880607784"
     },
     "user_tz": -540
    },
    "id": "cxLAAe-VSM1d",
    "outputId": "b08b74c6-e4f3-433a-ba66-bf9af4d4a501"
   },
   "outputs": [],
   "source": [
    "# 필터링 : 특정한 조건 값을 주어서 데이터프레임의 값을 필터링하기\n",
    "# 7. 평균 풍속이 4.0이 넘는 달만 추출하기\n",
    "weather.head()"
   ]
  },
  {
   "cell_type": "code",
   "execution_count": null,
   "id": "5TyRRlR8XTjp",
   "metadata": {
    "colab": {
     "base_uri": "https://localhost:8080/",
     "height": 175
    },
    "executionInfo": {
     "elapsed": 298,
     "status": "ok",
     "timestamp": 1714990308302,
     "user": {
      "displayName": "김유희",
      "userId": "00390714496880607784"
     },
     "user_tz": -540
    },
    "id": "5TyRRlR8XTjp",
    "outputId": "1cbe9f31-95b2-4802-a281-50fedf603b0f"
   },
   "outputs": [],
   "source": [
    "# weather[weather['평균 풍속'] >= 4.0]\n",
    "monthly_means.head()\n",
    "monthly_means[monthly_means['평균 풍속'] >= 4.0]"
   ]
  },
  {
   "cell_type": "code",
   "execution_count": null,
   "id": "ZezFpRi8XTnV",
   "metadata": {
    "colab": {
     "base_uri": "https://localhost:8080/",
     "height": 362
    },
    "executionInfo": {
     "elapsed": 1679,
     "status": "ok",
     "timestamp": 1714992770596,
     "user": {
      "displayName": "김유희",
      "userId": "00390714496880607784"
     },
     "user_tz": -540
    },
    "id": "ZezFpRi8XTnV",
    "outputId": "d140facf-7341-4dd7-df78-f248f5905edd"
   },
   "outputs": [],
   "source": [
    "# 8. '평균 기온', '최대 풍속', '평균 풍속'을 하나의 히스트그램으로 출력하시오.\n",
    "# groupby()와 DatetimeIndex().year을 사용\n",
    "\n",
    "# Calculate the yearly means\n",
    "#yearly_means = weather.groupby('year')[['평균 기온', '최대 풍속', '평균 풍속']].mean()\n",
    "\n",
    "# 히스토그램 그리기\n",
    "fig, axs = plt.subplots(1, 3, figsize=(15, 5))\n",
    "\n",
    "# Plot the histogram for average temperature\n",
    "axs[0].hist(yearly_means['평균 기온'], bins=10, color = \"red\")\n",
    "axs[0].set_title(\"연도별 평균 기온\")\n",
    "axs[0].set_xlabel(\"평균 기온\")\n",
    "axs[0].set_ylabel(\"빈도수\")\n",
    "\n",
    "\n",
    "# Plot the histogram for maximum wind speed\n",
    "axs[1].hist(yearly_means['최대 풍속'], bins=10, color=\"green\")\n",
    "axs[1].set_title(\"연도별 최대 풍속\")\n",
    "axs[1].set_xlabel(\"최대 풍속\")\n",
    "axs[1].set_ylabel(\"빈도수\")\n",
    "\n",
    "# Plot the histogram for average wind speed\n",
    "axs[2].hist(yearly_means['평균 풍속'], bins=10, color=\"blue\")\n",
    "axs[2].set_title(\"연도별 평균 풍속\")\n",
    "axs[2].set_xlabel(\"평균 풍속\")\n",
    "axs[2].set_ylabel(\"빈도수\")\n"
   ]
  },
  {
   "cell_type": "markdown",
   "id": "dB6HCOyBgCPE",
   "metadata": {
    "id": "dB6HCOyBgCPE"
   },
   "source": [
    "![image.png](data:image/png;base64,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)"
   ]
  },
  {
   "cell_type": "code",
   "execution_count": null,
   "id": "ShwP6_9iXTu0",
   "metadata": {
    "colab": {
     "base_uri": "https://localhost:8080/",
     "height": 964
    },
    "executionInfo": {
     "elapsed": 322,
     "status": "ok",
     "timestamp": 1714990890035,
     "user": {
      "displayName": "김유희",
      "userId": "00390714496880607784"
     },
     "user_tz": -540
    },
    "id": "ShwP6_9iXTu0",
    "outputId": "00f87237-532e-44fe-b7fb-67b81cdcb378"
   },
   "outputs": [],
   "source": [
    "# 히스토그램 사용 예\n",
    "import matplotlib.pyplot as plt\n",
    "\n",
    "# 임의의 데이터 생성\n",
    "data = np.random.randn(1000)\n",
    "\n",
    "# 히스토그램 그리기\n",
    "# plt.hist(data)\n",
    "plt.hist(data, bins=20) #기본 구간 10개 대신 구간 20개로 히스토그램\n",
    "\n",
    "# 레이블과 제목 추가\n",
    "plt.xlabel(\"값\")\n",
    "plt.ylabel(\"빈도\")\n",
    "plt.title(\"임의 데이터의 히스토그램\")\n",
    "\n",
    "# 그래프 표시\n",
    "plt.show()"
   ]
  },
  {
   "cell_type": "code",
   "execution_count": null,
   "id": "738TukKHbaIM",
   "metadata": {
    "colab": {
     "base_uri": "https://localhost:8080/",
     "height": 505
    },
    "executionInfo": {
     "elapsed": 1585,
     "status": "ok",
     "timestamp": 1714992939193,
     "user": {
      "displayName": "김유희",
      "userId": "00390714496880607784"
     },
     "user_tz": -540
    },
    "id": "738TukKHbaIM",
    "outputId": "cb0247d0-6279-46f5-f284-9b23958421eb"
   },
   "outputs": [],
   "source": [
    "# 한 그림에 여러 개의 히스토그램 그리기:\n",
    "fig, axs = plt.subplots(1, 2, figsize=(10, 5))\n",
    "\n",
    "data1 = np.random.randn(1000)\n",
    "data2 = np.random.randn(1000) + 2\n",
    "\n",
    "axs[0].hist(data1, bins=10, color = \"red\", label=\"data2\")\n",
    "axs[0].set_title(\"data1\")\n",
    "axs[0].set_xlabel(\"bins\")\n",
    "axs[0].set_ylabel(\"freq\")\n",
    "\n",
    "axs[1].hist(data2, bins=10, alpha=0.5, label=\"data 1\")\n",
    "axs[1].set_title(\"data2\")\n",
    "axs[1].set_xlabel(\"bins\")\n",
    "axs[1].set_ylabel(\"freq\")"
   ]
  },
  {
   "cell_type": "code",
   "execution_count": null,
   "id": "Xi7emBpmmLOZ",
   "metadata": {
    "id": "Xi7emBpmmLOZ"
   },
   "outputs": [],
   "source": []
  },
  {
   "cell_type": "markdown",
   "id": "RGX6LU_bmMLj",
   "metadata": {
    "id": "RGX6LU_bmMLj"
   },
   "source": [
    "# [2차 프로그래밍 문제]\n",
    "* 제출날짜: 2024-05-14까지 ipynb 소스자료 업로드하기\n",
    "* cyber캠퍼스와 깃허브에 올리기\n",
    "* 실습에서 사용한 weather.csv 파일을 판다스를 이용하여 데이터프레임을 만들어 다음과 같이 처리한다."
   ]
  },
  {
   "cell_type": "markdown",
   "id": "JsioBEQhoW4s",
   "metadata": {
    "id": "JsioBEQhoW4s"
   },
   "source": [
    "## 1) 이 데이터셋의 앞 3개 행과 마지막 3개의 행을 화면에 출력하시오."
   ]
  },
  {
   "cell_type": "code",
   "execution_count": 22,
   "id": "1c8c3446-377e-4467-a81a-2a8ccc305685",
   "metadata": {},
   "outputs": [
    {
     "name": "stdout",
     "output_type": "stream",
     "text": [
      "처음 3개의 행:\n",
      "            평균 기온  최대 풍속  평균 풍속\n",
      "일시                             \n",
      "2010-08-01   28.7    8.3    3.4\n",
      "2010-08-02   25.2    8.7    3.8\n",
      "2010-08-03   22.1    6.3    2.9\n",
      "\n",
      "마지막 3개의 행:\n",
      "            평균 기온  최대 풍속  평균 풍속\n",
      "일시                             \n",
      "2020-07-29   21.6    3.2    1.0\n",
      "2020-07-30   22.9    9.7    2.4\n",
      "2020-07-31   25.7    4.8    2.5\n"
     ]
    }
   ],
   "source": [
    "print(\"처음 3개의 행:\")\n",
    "print(weather.head(3))\n",
    "\n",
    "print(\"\\n마지막 3개의 행:\")\n",
    "print(weather.tail(3))"
   ]
  },
  {
   "cell_type": "markdown",
   "id": "n2JwML1qoqHE",
   "metadata": {
    "id": "n2JwML1qoqHE"
   },
   "source": [
    "## 2) 2015년 6월 6일의 \"평균 기온\"과 \"풍속 정보\"를 출력하시오\n"
   ]
  },
  {
   "cell_type": "code",
   "execution_count": 24,
   "id": "8efea1d2-43b8-4035-828d-e6af37d29541",
   "metadata": {},
   "outputs": [
    {
     "name": "stdout",
     "output_type": "stream",
     "text": [
      "평균 기온    16.6\n",
      "최대 풍속     4.4\n",
      "평균 풍속     1.9\n",
      "Name: 2015-06-06, dtype: float64\n"
     ]
    }
   ],
   "source": [
    "specific_day = weather.loc['2015-06-06']\n",
    "\n",
    "# '평균 기온'과 '풍속' 정보를 출력합니다.\n",
    "print(specific_day)"
   ]
  },
  {
   "cell_type": "markdown",
   "id": "I_8ZP-sipoE1",
   "metadata": {
    "id": "I_8ZP-sipoE1"
   },
   "source": [
    "## 3) 가장 무더웠던 날짜을 추출해서 이 날의 기상 데이터을 출력하시오."
   ]
  },
  {
   "cell_type": "code",
   "execution_count": 44,
   "id": "b290eebc-6edd-48e1-8d1f-1c501eebf20b",
   "metadata": {},
   "outputs": [
    {
     "name": "stdout",
     "output_type": "stream",
     "text": [
      "가장 온도가 높았던 날의 기상 데이터:\n",
      "            평균 기온  최대 풍속  평균 풍속\n",
      "일시                             \n",
      "2013-08-08   31.3    7.8    4.6\n"
     ]
    }
   ],
   "source": [
    "weather = pd.read_csv(\"weather.csv\", index_col=0)\n",
    "\n",
    "# '평균 기온'에서 최대값 찾기\n",
    "max_avg_temp = weather['평균 기온'].max()\n",
    "\n",
    "# '평균 기온'이 최대값인 날의 데이터 찾기\n",
    "hottest_day_data = weather[weather['평균 기온'] == max_avg_temp]\n",
    "\n",
    "# 가장 더웠던 날의 기상 데이터 출력\n",
    "print(\"가장 온도가 높았던 날의 기상 데이터:\")\n",
    "print(hottest_day_data)"
   ]
  },
  {
   "cell_type": "markdown",
   "id": "Zr9e8I19r4cQ",
   "metadata": {
    "id": "Zr9e8I19r4cQ"
   },
   "source": [
    "## 4) \"평균 기온\"이 30도를 넘는 날짜들을 찾아, 이 날의 기상 데이터를 출력하시오."
   ]
  },
  {
   "cell_type": "code",
   "execution_count": 45,
   "id": "6d3b1b7d-c7bd-4dfc-aeea-8ffa918f81f7",
   "metadata": {},
   "outputs": [
    {
     "name": "stdout",
     "output_type": "stream",
     "text": [
      "평균 기온이 30도를 넘는 날짜들의 기상 데이터:\n",
      "            평균 기온  최대 풍속  평균 풍속\n",
      "일시                             \n",
      "2013-08-08   31.3    7.8    4.6\n",
      "2013-08-09   30.6    9.9    6.4\n",
      "2013-08-10   30.6    7.4    3.8\n",
      "2018-07-23   30.5    6.5    1.6\n",
      "2018-08-04   30.3    5.8    3.0\n"
     ]
    }
   ],
   "source": [
    "# CSV 파일 로드\n",
    "weather = pd.read_csv(\"weather.csv\", index_col=0)\n",
    "\n",
    "# '평균 기온'이 30도를 넘는 날짜들의 데이터 필터링\n",
    "hot_days_data = weather[weather['평균 기온'] > 30]\n",
    "\n",
    "# 해당하는 날짜들의 기상 데이터 출력\n",
    "print(\"평균 기온이 30도를 넘는 날짜들의 기상 데이터:\")\n",
    "print(hot_days_data)"
   ]
  },
  {
   "cell_type": "markdown",
   "id": "UxAiZc9LsSIU",
   "metadata": {
    "id": "UxAiZc9LsSIU"
   },
   "source": [
    "## 5) 연도별 \"평균 기온\"의 평균에 대한 추이를 선 그래프로 그리시오."
   ]
  },
  {
   "cell_type": "code",
   "execution_count": 48,
   "id": "f52d2f6b-4369-4db1-9caf-61c1e6f1bf92",
   "metadata": {},
   "outputs": [
    {
     "data": {
      "image/png": "[encoded data removed]",
      "text/plain": [
       "<Figure size 1000x600 with 1 Axes>"
      ]
     },
     "metadata": {},
     "output_type": "display_data"
    }
   ],
   "source": [
    "# CSV 파일 로드\n",
    "weather = pd.read_csv(\"weather.csv\")\n",
    "\n",
    "# '일시' 열을 datetime 타입으로 변환\n",
    "weather['일시'] = pd.to_datetime(weather['일시'])\n",
    "\n",
    "# '일시' 열에서 연도를 추출하여 새로운 열로 추가\n",
    "weather['연도'] = weather['일시'].dt.year\n",
    "\n",
    "# 연도별로 데이터를 그룹화하고, 각 그룹의 '평균 기온'의 평균을 계산\n",
    "yearly_avg_temp = weather.groupby('연도')['평균 기온'].mean()\n",
    "\n",
    "# 연도별 '평균 기온'의 평균을 선 그래프로 그림\n",
    "plt.figure(figsize=(10, 6))\n",
    "yearly_avg_temp.plot(kind='line')\n",
    "plt.title('연도별 평균 기온의 평균 추이')\n",
    "plt.xlabel('연도')\n",
    "plt.ylabel('평균 기온')\n",
    "plt.grid(True)\n",
    "plt.show()"
   ]
  },
  {
   "cell_type": "markdown",
   "id": "50vCshnnsgLa",
   "metadata": {
    "id": "50vCshnnsgLa"
   },
   "source": [
    "## 6) 연도별 \"최대 풍속\"의 평균을 막대 그래프로 그리시오."
   ]
  },
  {
   "cell_type": "code",
   "execution_count": 49,
   "id": "596c4dbd-b697-4338-b2e1-a4683a7b8721",
   "metadata": {},
   "outputs": [
    {
     "data": {
      "image/png": "[encoded data removed]",
      "text/plain": [
       "<Figure size 1000x600 with 1 Axes>"
      ]
     },
     "metadata": {},
     "output_type": "display_data"
    }
   ],
   "source": [
    "# CSV 파일 로드\n",
    "weather = pd.read_csv(\"weather.csv\")\n",
    "\n",
    "# '일시' 열을 datetime 타입으로 변환\n",
    "weather['일시'] = pd.to_datetime(weather['일시'])\n",
    "\n",
    "# '일시' 열에서 연도를 추출하여 새로운 열로 추가\n",
    "weather['연도'] = weather['일시'].dt.year\n",
    "\n",
    "# 연도별로 데이터를 그룹화하고, 각 그룹의 '최대 풍속'의 평균을 계산\n",
    "yearly_avg_max_wind_speed = weather.groupby('연도')['최대 풍속'].mean()\n",
    "\n",
    "# 연도별 '최대 풍속'의 평균을 막대 그래프로 그림\n",
    "plt.figure(figsize=(10, 6))\n",
    "yearly_avg_max_wind_speed.plot(kind='bar', color='skyblue')\n",
    "plt.title('연도별 최대 풍속의 평균')\n",
    "plt.xlabel('연도')\n",
    "plt.ylabel('최대 풍속의 평균')\n",
    "plt.xticks(rotation=45)\n",
    "plt.grid(axis='y')\n",
    "plt.show()"
   ]
  },
  {
   "cell_type": "markdown",
   "id": "4I3086wKy78D",
   "metadata": {
    "id": "4I3086wKy78D"
   },
   "source": [
    "## 7) 연도별 \"평균 풍속\"의 합을 히스토그램 그래프로 그리시오\n"
   ]
  },
  {
   "cell_type": "code",
   "execution_count": 50,
   "id": "ecce5318-315c-42c1-aac5-9ba84d3859e7",
   "metadata": {},
   "outputs": [
    {
     "data": {
      "image/png": "[encoded data removed]",
      "text/plain": [
       "<Figure size 1000x600 with 1 Axes>"
      ]
     },
     "metadata": {},
     "output_type": "display_data"
    }
   ],
   "source": [
    "# CSV 파일 로드\n",
    "weather = pd.read_csv(\"weather.csv\")\n",
    "\n",
    "# '일시' 열을 datetime 타입으로 변환\n",
    "weather['일시'] = pd.to_datetime(weather['일시'])\n",
    "\n",
    "# '일시' 열에서 연도를 추출하여 새로운 열로 추가\n",
    "weather['연도'] = weather['일시'].dt.year\n",
    "\n",
    "# 연도별로 데이터를 그룹화하고, 각 그룹의 '평균 풍속'의 합을 계산\n",
    "yearly_sum_wind_speed = weather.groupby('연도')['평균 풍속'].sum()\n",
    "\n",
    "# 연도별 '평균 풍속'의 합을 히스토그램으로 그림\n",
    "plt.figure(figsize=(10, 6))\n",
    "yearly_sum_wind_speed.plot(kind='bar')\n",
    "plt.title('연도별 평균 풍속의 합')\n",
    "plt.xlabel('연도')\n",
    "plt.ylabel('평균 풍속의 합')\n",
    "plt.xticks(rotation=45)\n",
    "plt.grid(True)\n",
    "plt.show()"
   ]
  },
  {
   "cell_type": "markdown",
   "id": "41-kWDRjsgQv",
   "metadata": {
    "id": "41-kWDRjsgQv"
   },
   "source": [
    "## 8) 2015년과 2016년의 \"평균 기온\"의 평균을 비교하여 어느 해가 더 더웠는지 출력하시오."
   ]
  },
  {
   "cell_type": "code",
   "execution_count": 53,
   "id": "789d990e-4bfd-4026-a0f0-818d7970224b",
   "metadata": {},
   "outputs": [
    {
     "name": "stdout",
     "output_type": "stream",
     "text": [
      "2016년이 2015년보다 더 더웠습니다.\n"
     ]
    }
   ],
   "source": [
    "# CSV 파일 로드\n",
    "df = pd.read_csv('weather.csv')\n",
    "\n",
    "# '날짜' 열을 datetime 타입으로 변경\n",
    "df['일시'] = pd.to_datetime(df['일시'])\n",
    "\n",
    "# '날짜' 열에서 연도를 추출하여 새로운 열로 추가\n",
    "df['연도'] = df['일시'].dt.year\n",
    "\n",
    "# 2015년과 2016년 데이터 필터링\n",
    "df_2015 = df[df['연도'] == 2015]\n",
    "df_2016 = df[df['연도'] == 2016]\n",
    "\n",
    "# 2015년과 2016년의 평균 기온의 평균 계산\n",
    "avg_temp_2015 = df_2015['평균 기온'].mean()\n",
    "avg_temp_2016 = df_2016['평균 기온'].mean()\n",
    "\n",
    "# 결과 비교 및 출력\n",
    "if avg_temp_2015 > avg_temp_2016:\n",
    "    print(\"2015년이 2016년보다 더 더웠습니다.\")\n",
    "elif avg_temp_2015 < avg_temp_2016:\n",
    "    print(\"2016년이 2015년보다 더 더웠습니다.\")\n",
    "else:\n",
    "    print(\"2015년과 2016년의 평균 기온이 같습니다.\")"
   ]
  },
  {
   "cell_type": "markdown",
   "id": "HETguNr4sgu4",
   "metadata": {
    "id": "HETguNr4sgu4"
   },
   "source": [
    "## 9) 월별 \"평균 기온\" 의 합이 가장 적은 달과 가장 많은 달을 출력하시오."
   ]
  },
  {
   "cell_type": "code",
   "execution_count": 54,
   "id": "81a02622-0d72-4c53-8468-a1aba63b6657",
   "metadata": {},
   "outputs": [
    {
     "name": "stdout",
     "output_type": "stream",
     "text": [
      "가장 적은 달: 1, 가장 많은 달: 8\n"
     ]
    }
   ],
   "source": [
    "# CSV 파일 로드\n",
    "df = pd.read_csv('weather.csv')\n",
    "\n",
    "# '날짜' 열을 datetime 타입으로 변경\n",
    "df['일시'] = pd.to_datetime(df['일시'])\n",
    "\n",
    "# '날짜' 열에서 월 정보를 추출하여 새로운 열로 추가\n",
    "df['월'] = df['일시'].dt.month\n",
    "\n",
    "# 월별 '평균 기온'의 합 계산\n",
    "monthly_avg_temp_sum = df.groupby('월')['평균 기온'].sum()\n",
    "\n",
    "# 가장 적은 달과 가장 많은 달 찾기\n",
    "min_temp_month = monthly_avg_temp_sum.idxmin()\n",
    "max_temp_month = monthly_avg_temp_sum.idxmax()\n",
    "\n",
    "# 결과 출력\n",
    "print(f\"가장 적은 달: {min_temp_month}, 가장 많은 달: {max_temp_month}\")"
   ]
  },
  {
   "cell_type": "markdown",
   "id": "nRk9WsOO00Is",
   "metadata": {
    "id": "nRk9WsOO00Is"
   },
   "source": [
    "## 10) 연도별 \"최대 풍속\"의 평균이 가장 큰 연도을 출력하시오."
   ]
  },
  {
   "cell_type": "code",
   "execution_count": 55,
   "id": "84028cad-4a93-486f-a5a5-ba29214b5c67",
   "metadata": {},
   "outputs": [
    {
     "name": "stdout",
     "output_type": "stream",
     "text": [
      "최대 풍속의 평균이 가장 큰 연도는 2011년입니다.\n"
     ]
    }
   ],
   "source": [
    "# CSV 파일 불러오기\n",
    "df = pd.read_csv('weather.csv')\n",
    "\n",
    "# '날짜' 열을 datetime 타입으로 변환\n",
    "df['일시'] = pd.to_datetime(df['일시'])\n",
    "\n",
    "# '날짜' 열에서 연도 정보 추출하여 새로운 열 추가\n",
    "df['연도'] = df['일시'].dt.year\n",
    "\n",
    "# 각 연도별로 '최대 풍속'의 평균 계산\n",
    "yearly_max_wind_speed_avg = df.groupby('연도')['최대 풍속'].mean()\n",
    "\n",
    "# 평균이 가장 큰 연도 찾기\n",
    "max_avg_wind_speed_year = yearly_max_wind_speed_avg.idxmax()\n",
    "\n",
    "# 결과 출력\n",
    "print(f\"최대 풍속의 평균이 가장 큰 연도는 {max_avg_wind_speed_year}년입니다.\")"
   ]
  },
  {
   "cell_type": "code",
   "execution_count": null,
   "id": "821476e3-cd12-4ef5-81b3-46391d7373f3",
   "metadata": {},
   "outputs": [],
   "source": []
  }
 ],
 "metadata": {
  "colab": {
   "provenance": []
  },
  "kernelspec": {
   "display_name": "Python 3 (ipykernel)",
   "language": "python",
   "name": "python3"
  },
  "language_info": {
   "codemirror_mode": {
    "name": "ipython",
    "version": 3
   },
   "file_extension": ".py",
   "mimetype": "text/x-python",
   "name": "python",
   "nbconvert_exporter": "python",
   "pygments_lexer": "ipython3",
   "version": "3.12.2"
  },
  "toc": {
   "base_numbering": 1,
   "nav_menu": {},
   "number_sections": false,
   "sideBar": false,
   "skip_h1_title": false,
   "title_cell": "Table of Contents",
   "title_sidebar": "Contents",
   "toc_cell": false,
   "toc_position": {
    "height": "1098px",
    "left": "915.867px",
    "top": "138.233px",
    "width": "255.467px"
   },
   "toc_section_display": true,
   "toc_window_display": true
  }
 },
 "nbformat": 4,
 "nbformat_minor": 5
}
